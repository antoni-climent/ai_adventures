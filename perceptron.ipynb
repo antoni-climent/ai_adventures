{
 "cells": [
  {
   "cell_type": "code",
   "execution_count": 26,
   "metadata": {},
   "outputs": [],
   "source": [
    "# Perceptron\n",
    "import torch\n",
    "\n",
    "class Perceptron:\n",
    "    def __init__(self, w, b):\n",
    "        # Initialize randomly the weights and bias\n",
    "        self.w = w\n",
    "        self.b = b\n",
    "\n",
    "    def forward(self, x):\n",
    "        return x @ self.w + self.b\n",
    "    \n",
    "    def backward(self, loss):\n",
    "        \n",
    "    "
   ]
  },
  {
   "cell_type": "code",
   "execution_count": 98,
   "metadata": {},
   "outputs": [
    {
     "name": "stdout",
     "output_type": "stream",
     "text": [
      "tensor([[0., 1.]]) :  tensor([0])\n",
      "tensor([[0., 0.]]) :  tensor([0])\n",
      "tensor([[1., 1.]]) :  tensor([1])\n",
      "tensor([[0., 0.]]) :  tensor([0])\n",
      "tensor([[0., 1.]]) :  tensor([0])\n",
      "tensor([[1., 0.]]) :  tensor([0])\n",
      "tensor([[0., 1.]]) :  tensor([0])\n",
      "tensor([[1., 1.]]) :  tensor([1])\n",
      "tensor([[0., 1.]]) :  tensor([0])\n",
      "tensor([[0., 0.]]) :  tensor([0])\n"
     ]
    }
   ],
   "source": [
    "# AND gate outputs\n",
    "X = torch.tensor([[0.,0.],\n",
    "                  [0.,1.],\n",
    "                  [1.,0.],\n",
    "                  [1.,1.]])\n",
    "y = torch.tensor([0,0,0,1])\n",
    "\n",
    "percep = Perceptron(torch.tensor([1.,1.]) , torch.tensor(-1))\n",
    "\n",
    "for i in range(10):\n",
    "    ind = torch.randint(0,4,(1,))\n",
    "    X_sample = X[ind]\n",
    "    y_sample = y[ind]\n",
    "    print(X_sample, \": \", y_sample)"
   ]
  },
  {
   "cell_type": "code",
   "execution_count": 95,
   "metadata": {},
   "outputs": [
    {
     "data": {
      "text/plain": [
       "tensor([[1., 1.]])"
      ]
     },
     "execution_count": 95,
     "metadata": {},
     "output_type": "execute_result"
    }
   ],
   "source": [
    "X[torch.randint(0,4,(1,))]"
   ]
  }
 ],
 "metadata": {
  "kernelspec": {
   "display_name": ".venv",
   "language": "python",
   "name": "python3"
  },
  "language_info": {
   "codemirror_mode": {
    "name": "ipython",
    "version": 3
   },
   "file_extension": ".py",
   "mimetype": "text/x-python",
   "name": "python",
   "nbconvert_exporter": "python",
   "pygments_lexer": "ipython3",
   "version": "3.10.12"
  }
 },
 "nbformat": 4,
 "nbformat_minor": 2
}
