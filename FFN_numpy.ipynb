{
 "cells": [
  {
   "cell_type": "code",
   "execution_count": 2,
   "metadata": {},
   "outputs": [],
   "source": [
    "import numpy as np"
   ]
  },
  {
   "cell_type": "code",
   "execution_count": null,
   "metadata": {},
   "outputs": [],
   "source": [
    "\"\"\"\n",
    "N -> Num samples\n",
    "K -> Num classes\n",
    "D -> Dimensionality of input X\n",
    "\n",
    "X -> (N,D)\n",
    "W -> (D,K)\n",
    "\n",
    "\"\"\""
   ]
  },
  {
   "cell_type": "code",
   "execution_count": null,
   "metadata": {},
   "outputs": [],
   "source": [
    "class FFN:\n",
    "    def __init__(self,K,D): # N is the # of samples, and D the input dimension\n",
    "        self.W = np.random.rand(D,K)\n",
    "        self.b = np.random.rand(1,K)\n",
    "\n",
    "        self.dW = np.zeros((D,K))\n",
    "        self.db = np.zeros(K)\n",
    "    \n",
    "    def forward(self, X):\n",
    "        preds = np.dot(X,self.W) + self.b # Gives (N,K)\n",
    "        preds = np.exp(preds) / sum(np.exp(preds)) # Softmax\n",
    "        return preds\n",
    "\n",
    "    def compute_loss(self, preds, Y, N): # preds -> (N,K) and Y -> (N)\n",
    "        return sum(-np.log(preds[:,Y])) / N # Cross entropy loss\n",
    "\n",
    "    def backward(self, loss, preds, Y, N):\n",
    "        dscores = preds\n",
    "        dscores[:,Y] -= 1\n",
    "        dscores /= N\n",
    "    # Where is the loss used in this function? \n",
    "    # Hay que devolver dW y db\n",
    "\n"
   ]
  },
  {
   "cell_type": "code",
   "execution_count": null,
   "metadata": {},
   "outputs": [],
   "source": [
    "# Hiperparameters\n",
    "iterations = 100\n",
    "N = 10\n",
    "K = 10\n",
    "D = 10\n",
    "\n",
    "model = FFN(K,D)\n",
    "for _ in range(iterations): # Training loop\n",
    "    X = np.random.rand(N,D)\n",
    "    Y = np.random.randint(0,K,N) # Indexes of the correct classes\n",
    "    preds = model.forward(X)\n",
    "    loss = model.compute_loss(preds,Y,N)\n",
    "    dW, db = model.backward(loss, preds, Y, N)\n"
   ]
  },
  {
   "cell_type": "code",
   "execution_count": 70,
   "metadata": {},
   "outputs": [
    {
     "data": {
      "text/plain": [
       "array([2, 0, 2])"
      ]
     },
     "execution_count": 70,
     "metadata": {},
     "output_type": "execute_result"
    }
   ],
   "source": [
    "np.random.randint(0,3,3)"
   ]
  }
 ],
 "metadata": {
  "kernelspec": {
   "display_name": "etools",
   "language": "python",
   "name": "python3"
  },
  "language_info": {
   "codemirror_mode": {
    "name": "ipython",
    "version": 3
   },
   "file_extension": ".py",
   "mimetype": "text/x-python",
   "name": "python",
   "nbconvert_exporter": "python",
   "pygments_lexer": "ipython3",
   "version": "3.12.4"
  }
 },
 "nbformat": 4,
 "nbformat_minor": 2
}
