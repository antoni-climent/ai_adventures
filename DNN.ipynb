{
 "cells": [
  {
   "cell_type": "code",
   "execution_count": 41,
   "metadata": {},
   "outputs": [
    {
     "name": "stdout",
     "output_type": "stream",
     "text": [
      "Label: L, value: -22, grad: 1\n",
      "Label: c, value: -2, grad: 11.0\n",
      "Label: f, value: 11, grad: -2.0\n",
      "Label: , value: 4, grad: -2.0\n",
      "Label: e, value: 7, grad: -2.0\n",
      "Label: d, value: 4, grad: -2.0\n",
      "Label: , value: 1, grad: -2.0\n",
      "Label: a, value: 3, grad: -4.0\n"
     ]
    }
   ],
   "source": [
    "import math\n",
    "import matplotlib.pyplot as plt\n",
    "\n",
    "class Value:\n",
    "    def __init__(self, data, _children=(), _op='', label = ''):\n",
    "        self.data = data\n",
    "        self._prev = _children\n",
    "        self.grad = 0.0\n",
    "        self._op = _op\n",
    "        self._label = label\n",
    "        self._backward = lambda: None\n",
    "\n",
    "    def __repr__(self):\n",
    "        return f'Value: {self.data}'\n",
    "    \n",
    "    def __add__(self, other):\n",
    "        self = self if isinstance(self, Value) else Value(self)\n",
    "        other = other if isinstance(other, Value) else Value(other)\n",
    "        \n",
    "        out = Value(self.data + other.data, (self, other), '+')\n",
    "\n",
    "        def _backward():\n",
    "            self.grad += out.grad\n",
    "            other.grad += out.grad\n",
    "        self._backward = _backward\n",
    "        return out\n",
    "    \n",
    "    def __mul__(self, other):\n",
    "        out =  Value(self.data * other.data, (self, other), '*')\n",
    "\n",
    "        def _backward():\n",
    "            self.grad += other.data * out.grad\n",
    "            other.grad += self.data * out.grad\n",
    "        self._backward = _backward\n",
    "        return out\n",
    "    \n",
    "    def tanh(self):\n",
    "        x = self.data\n",
    "        t = (math.exp(2*x) - 1)/(math.exp(2*x) + 1)\n",
    "        out = Value(t, (self, ), 'tanh')\n",
    "\n",
    "        def _backward():\n",
    "            self.grad += 1 - self.tanh()**2\n",
    "        self._backward = _backward\n",
    "        return out\n",
    "\n",
    "    \n",
    "\n",
    "    def backprop(node):\n",
    "        # Topo sort\n",
    "        topo = []\n",
    "        visited = set()\n",
    "        def build_topo(v):\n",
    "            for child in v._prev:\n",
    "                if child not in visited:\n",
    "                    visited.add(child)\n",
    "                    build_topo(child)\n",
    "            topo.append(v)\n",
    "        build_topo(node)\n",
    "        for node in reversed(topo):\n",
    "            node._backward()\n",
    "\n",
    "        for node in reversed(topo):\n",
    "            print(f'Label: {node._label}, value: {node.data}, grad: {node.grad}')\n",
    "\n",
    "    def zero_grad(self):\n",
    "        if not self._prev:\n",
    "            return \n",
    "        \n",
    "        self.grad = 0\n",
    "        for node in self._prev:\n",
    "            node.zero_grad()\n",
    "\n",
    "a = Value(3, label='a')\n",
    "b = Value(4, label='b')\n",
    "c = Value(-2, label='c')\n",
    "d = a + 1\n",
    "e = d + a\n",
    "f = e + 4\n",
    "L = f * c\n",
    "d._label = 'd'\n",
    "e._label = 'e'\n",
    "f._label = 'f'\n",
    "L._label = 'L'\n",
    "L.grad = 1\n",
    "\n",
    "\n"
   ]
  },
  {
   "cell_type": "code",
   "execution_count": 151,
   "metadata": {},
   "outputs": [
    {
     "name": "stdout",
     "output_type": "stream",
     "text": [
      "Label: L, value: -22, grad: 1\n",
      "Label: c, value: 2676.8378107448143, grad: 12595.277282196055\n",
      "Label: f, value: 567.2516866401859, grad: 2676.8378107448143\n",
      "Label: , value: 4, grad: 58300.0064747634\n",
      "Label: e, value: 563.2516866401859, grad: 2676.8378107448143\n",
      "Label: d, value: 560.2516866401858, grad: 2676.8378107448143\n",
      "Label: , value: 1, grad: 58300.0064747634\n",
      "Label: a, value: 22747.19456439211, grad: 116600.0129495268\n",
      "L_data:  1664913.8439243946\n"
     ]
    }
   ],
   "source": [
    "L.zero_grad()\n",
    "L.grad = 1\n",
    "L.backprop()\n",
    "a.data += 0.01 * a.grad\n",
    "b.data += 0.01 * b.grad\n",
    "c.data += 0.01 * c.grad\n",
    "d.data += 0.01 * d.grad\n",
    "e.data += 0.01 * e.grad\n",
    "f.data += 0.01 * f.grad\n",
    "print(\"L_data: \", f.data * c.data)"
   ]
  },
  {
   "cell_type": "code",
   "execution_count": 582,
   "metadata": {},
   "outputs": [
    {
     "name": "stdout",
     "output_type": "stream",
     "text": [
      "-2.0\n"
     ]
    }
   ],
   "source": [
    "print(d.grad)"
   ]
  }
 ],
 "metadata": {
  "kernelspec": {
   "display_name": ".venv",
   "language": "python",
   "name": "python3"
  },
  "language_info": {
   "codemirror_mode": {
    "name": "ipython",
    "version": 3
   },
   "file_extension": ".py",
   "mimetype": "text/x-python",
   "name": "python",
   "nbconvert_exporter": "python",
   "pygments_lexer": "ipython3",
   "version": "3.10.12"
  }
 },
 "nbformat": 4,
 "nbformat_minor": 2
}
